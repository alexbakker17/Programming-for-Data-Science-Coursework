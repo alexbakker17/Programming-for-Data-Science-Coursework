{
 "cells": [
  {
   "cell_type": "markdown",
   "id": "07018d6e-f309-44d4-8b61-43ec16e7d9a3",
   "metadata": {},
   "source": [
    "# Student Attendance"
   ]
  },
  {
   "cell_type": "markdown",
   "id": "94bb4424-582f-4cd2-8c9d-2677eb503163",
   "metadata": {},
   "source": [
    "Student ID: B721581 | Data Completed: 22/01/23\n",
    "\n",
    "The following is a Python program that produces a table and a bar graph of the attendance record of a particular student. Given the Student ID, the program:\n",
    "* Reads the relevant data from the SQL database\n",
    "* Displays a table and a graph of their attendance record for each module\n",
    "\n",
    "**The validity checks for this task are built into the GUI menu**"
   ]
  },
  {
   "cell_type": "markdown",
   "id": "7e4e1ad1-6b96-4e5d-8cd0-5cdcb282a2d7",
   "metadata": {},
   "source": [
    "## Imports"
   ]
  },
  {
   "cell_type": "code",
   "execution_count": 50,
   "id": "965fa8bb-1f73-4ef0-a864-102d8166a952",
   "metadata": {},
   "outputs": [],
   "source": [
    "import pandas as pd\n",
    "import numpy as np\n",
    "import matplotlib.pyplot as plt\n",
    "import sqlite3"
   ]
  },
  {
   "cell_type": "markdown",
   "id": "766bd9a8-d794-4874-a77b-7e70b72149e2",
   "metadata": {},
   "source": [
    "## Functions"
   ]
  },
  {
   "cell_type": "code",
   "execution_count": 51,
   "id": "7bcc5d84-4574-490d-9167-942659c56ea2",
   "metadata": {},
   "outputs": [],
   "source": [
    "def get_sid_data(sid):\n",
    "    \"\"\"\n",
    "    Gets an attendance data dictionary for a given \n",
    "    Student ID number from the SQL database.\n",
    "    \n",
    "    input: Student ID number\n",
    "    output: returns an attendance data dictionary of just that students data \n",
    "            & the Student ID number\n",
    "    \n",
    "    db_name = name of database\n",
    "    data = attendance data dictionary for Student ID x\n",
    "    sid = student_id = Student ID number\n",
    "    conn = connection to SQL database\n",
    "    table_list = list of tables in the SQL database\n",
    "    l = list used for error catching\n",
    "    \"\"\"\n",
    "\n",
    "    # assign local variables and collections\n",
    "    db_name = 'CWDatabase'\n",
    "    data = {}\n",
    "    student_id = int(sid)\n",
    "\n",
    "\n",
    "    ## read data from SQL database\n",
    "\n",
    "    conn = sqlite3.connect(db_name + '.db')\n",
    "\n",
    "    # get list of tables\n",
    "    sqlstm = 'SELECT name FROM sqlite_master WHERE type = \"table\"'\n",
    "    table_list = pd.read_sql(sqlstm, conn)\n",
    "    table_list = list(table_list['name'])\n",
    "\n",
    "    # loop through the list of tables and read in the attendance data tables\n",
    "    for table in table_list:\n",
    "        if table[7:10] == 'att':\n",
    "            data[table] = pd.read_sql('SELECT * FROM %s WHERE sid = %s' \n",
    "                                      %(table, student_id), conn)\n",
    "            data[table] = data[table].drop(columns = 'index')\n",
    "        else:\n",
    "            continue\n",
    "\n",
    "    conn.close()\n",
    "\n",
    "    # returns TypeError if there is no data for that student number\n",
    "    l = []\n",
    "    for name, df in data.items():\n",
    "        l.append(int(df['sid']))\n",
    "\n",
    "    return (data, student_id)\n",
    "\n",
    "\n",
    "\n",
    "def student_table(data, student_id):\n",
    "    \"\"\"\n",
    "    Displays a table of the attendance record \n",
    "    of the given Student ID number.\n",
    "    \n",
    "    input: attendance data dictionary for Student ID x \n",
    "           & Student ID number\n",
    "    output: displays the formatted table \n",
    "            & returns the unformatted table for the graph\n",
    "    \n",
    "    data = attendance data dictionary for Student ID x\n",
    "    student_id = Student ID number\n",
    "    student_att = unformatted dataframe of the attendance record\n",
    "    student_att_table = formatted dataframe for display purposes\n",
    "    table_title = title string for the table caption\n",
    "    week_no_list = list of week numbers\n",
    "    col_name_list = list of column names\n",
    "    perc_col_name = column heading for each module with % sign\n",
    "    \"\"\"\n",
    "    \n",
    "    # assign local variables and collections\n",
    "    col_name_list = []\n",
    "    student_att = pd.DataFrame()\n",
    "    table_title = 'Attendance Table for Student ID: ' + str(student_id)\n",
    "    df_names = list(data.keys())\n",
    "\n",
    "    # loop through attendance data dictionary\n",
    "    for name, df in data.items():\n",
    "\n",
    "        # assign local variables and collections within loop\n",
    "        week_no_list = ['sid']\n",
    "        perc_col_name = name[:6] + ' %'\n",
    "\n",
    "        # get list of column names and week numbers \n",
    "        col_name_list.append(perc_col_name)\n",
    "        week_no_list = [item[4:5] for item in list(df.columns)]\n",
    "        week_no_list[0] = 'sid'\n",
    "        \n",
    "        # reshape dataframe and calculate attendance %\n",
    "        df.columns = week_no_list\n",
    "        df = df.transpose()\n",
    "        df.reset_index(inplace = True)\n",
    "        df.rename(columns = {'index':'week'}, inplace = True)\n",
    "        df[0] = pd.to_numeric(df[0])\n",
    "        df = df.groupby('week').mean()\n",
    "        df[0] = df[0] * 100\n",
    "        student_att[name] = df[0]\n",
    "        \n",
    "    # clean up dataframe for graph and formatting \n",
    "    student_att.drop(index = 'sid', inplace = True)\n",
    "    student_att.columns = col_name_list\n",
    "    student_att.reset_index(inplace = True)\n",
    "    student_att.rename(columns = {student_att.columns[0]:'Week No'}, \n",
    "                       inplace = True)\n",
    "\n",
    "    # format the dataframe\n",
    "    student_att_table = student_att.style\\\n",
    "                                   .format('{:.1f}', subset = col_name_list)\\\n",
    "                                   .set_caption(table_title)\\\n",
    "                                   .set_table_styles([{'selector': 'caption',\n",
    "                                                       'props': [('font-size', \n",
    "                                                                  '18px')]}])\\\n",
    "                                   .hide_index()\n",
    "\n",
    "    display(student_att_table)\n",
    "    \n",
    "    return student_att\n",
    "\n",
    "\n",
    "\n",
    "def student_plot(student_att, student_id):\n",
    "    \"\"\"\n",
    "    Displays a graph of the attendance record of the given Student ID number.\n",
    "    \n",
    "    input: unformatted dataframe of the attendance record for Student ID x \n",
    "           & Student ID number\n",
    "    output: returns the graph\n",
    "    \n",
    "    student_att = unformatted dataframe of the attendance record\n",
    "    student_id = Student ID number\n",
    "    module_list = list of modules\n",
    "    \"\"\"\n",
    "    \n",
    "    # get list of modules\n",
    "    module_list = student_att.columns.tolist()\n",
    "    module_list.pop(0)\n",
    "\n",
    "    # create bar graph\n",
    "    student_att.plot(x = 'Week No', \n",
    "                     y = module_list, \n",
    "                     kind = 'bar', \n",
    "                     title = 'Attendance Graph for Student ID: ' \n",
    "                             + str(student_id),\n",
    "                     ylabel = 'Attendance (%)',\n",
    "                     rot = 0,\n",
    "                     ylim = [0, 105])\n",
    "\n",
    "    # set legend position\n",
    "    plt.legend(bbox_to_anchor = (1.01, 1.0), loc = 'upper left')\n",
    "\n",
    "    plt.show()"
   ]
  },
  {
   "cell_type": "markdown",
   "id": "f6fd2d82-03c1-44d6-bcdf-29bdb54ef951",
   "metadata": {
    "tags": []
   },
   "source": [
    "## Main Function"
   ]
  },
  {
   "cell_type": "code",
   "execution_count": 52,
   "id": "f186877b-e2e5-438a-ace6-d86be5c3aae2",
   "metadata": {},
   "outputs": [],
   "source": [
    "def get_student_att(sid):\n",
    "    \"\"\"\n",
    "    Combines the above functions into one main function:\n",
    "        - Reads the data from the SQL database,\n",
    "          creates the table and the graph\n",
    "    \n",
    "    input: Student ID number\n",
    "    output: None\n",
    "    \n",
    "    sid = student_id = Student ID number\n",
    "    data = attendance data dictionary for Student ID x\n",
    "    student_att = unformatted dataframe of the attendance record\n",
    "    \"\"\"\n",
    "    \n",
    "    data, student_id = get_sid_data(sid)\n",
    "    \n",
    "    student_att = student_table(data, student_id)\n",
    "    \n",
    "    student_plot(student_att, student_id)"
   ]
  },
  {
   "cell_type": "markdown",
   "id": "fa54486c-ee94-4363-9f97-534909b646a8",
   "metadata": {},
   "source": [
    "## Function Demo"
   ]
  },
  {
   "cell_type": "code",
   "execution_count": 53,
   "id": "c2c914b8-bf48-46e9-a8d0-ca5146ade08c",
   "metadata": {},
   "outputs": [
    {
     "data": {
      "text/html": [
       "<style  type=\"text/css\" >\n",
       "    #T_a645a_ caption {\n",
       "          font-size: 18px;\n",
       "    }</style><table id=\"T_a645a_\" ><caption>Attendance Table for Student ID: 0</caption><thead>    <tr>        <th class=\"col_heading level0 col0\" >Week No</th>        <th class=\"col_heading level0 col1\" >COA122 %</th>        <th class=\"col_heading level0 col2\" >COA111 %</th>    </tr></thead><tbody>\n",
       "                <tr>\n",
       "                                <td id=\"T_a645a_row0_col0\" class=\"data row0 col0\" >1</td>\n",
       "                        <td id=\"T_a645a_row0_col1\" class=\"data row0 col1\" >100.0</td>\n",
       "                        <td id=\"T_a645a_row0_col2\" class=\"data row0 col2\" >100.0</td>\n",
       "            </tr>\n",
       "            <tr>\n",
       "                                <td id=\"T_a645a_row1_col0\" class=\"data row1 col0\" >2</td>\n",
       "                        <td id=\"T_a645a_row1_col1\" class=\"data row1 col1\" >50.0</td>\n",
       "                        <td id=\"T_a645a_row1_col2\" class=\"data row1 col2\" >50.0</td>\n",
       "            </tr>\n",
       "            <tr>\n",
       "                                <td id=\"T_a645a_row2_col0\" class=\"data row2 col0\" >3</td>\n",
       "                        <td id=\"T_a645a_row2_col1\" class=\"data row2 col1\" >0.0</td>\n",
       "                        <td id=\"T_a645a_row2_col2\" class=\"data row2 col2\" >100.0</td>\n",
       "            </tr>\n",
       "            <tr>\n",
       "                                <td id=\"T_a645a_row3_col0\" class=\"data row3 col0\" >4</td>\n",
       "                        <td id=\"T_a645a_row3_col1\" class=\"data row3 col1\" >33.3</td>\n",
       "                        <td id=\"T_a645a_row3_col2\" class=\"data row3 col2\" >50.0</td>\n",
       "            </tr>\n",
       "            <tr>\n",
       "                                <td id=\"T_a645a_row4_col0\" class=\"data row4 col0\" >5</td>\n",
       "                        <td id=\"T_a645a_row4_col1\" class=\"data row4 col1\" >50.0</td>\n",
       "                        <td id=\"T_a645a_row4_col2\" class=\"data row4 col2\" >0.0</td>\n",
       "            </tr>\n",
       "            <tr>\n",
       "                                <td id=\"T_a645a_row5_col0\" class=\"data row5 col0\" >6</td>\n",
       "                        <td id=\"T_a645a_row5_col1\" class=\"data row5 col1\" >0.0</td>\n",
       "                        <td id=\"T_a645a_row5_col2\" class=\"data row5 col2\" >nan</td>\n",
       "            </tr>\n",
       "    </tbody></table>"
      ],
      "text/plain": [
       "<pandas.io.formats.style.Styler at 0x7fd5c6dfc0d0>"
      ]
     },
     "metadata": {},
     "output_type": "display_data"
    },
    {
     "data": {
      "image/png": "[encoded data removed]",
      "text/plain": [
       "<Figure size 640x480 with 1 Axes>"
      ]
     },
     "metadata": {},
     "output_type": "display_data"
    }
   ],
   "source": [
    "get_student_att(0)"
   ]
  }
 ],
 "metadata": {
  "kernelspec": {
   "display_name": "Python 3 (ipykernel)",
   "language": "python",
   "name": "python3"
  },
  "language_info": {
   "codemirror_mode": {
    "name": "ipython",
    "version": 3
   },
   "file_extension": ".py",
   "mimetype": "text/x-python",
   "name": "python",
   "nbconvert_exporter": "python",
   "pygments_lexer": "ipython3",
   "version": "3.9.13"
  }
 },
 "nbformat": 4,
 "nbformat_minor": 5
}
