{
 "cells": [
  {
   "cell_type": "markdown",
   "id": "e9a9a6d9-19f6-4367-8e7b-c88afc92afea",
   "metadata": {},
   "source": [
    "# Module Attendance"
   ]
  },
  {
   "cell_type": "markdown",
   "id": "6dc51101-bb43-44cc-808f-baab31e358fa",
   "metadata": {},
   "source": [
    "Student ID: B721581 | Data Completed: 22/01/23\n",
    "\n",
    "The following is a Python program that produces a table of the attendance of a module for a particular week. Given the module code and week number, the program:\n",
    "* Reads the relevant data from the SQL database\n",
    "* Displays a table of the attendance of each session of that module in that week.\n",
    "\n",
    "**The validity checks for this task are built into the GUI menu**"
   ]
  },
  {
   "cell_type": "markdown",
   "id": "dff4ee59-4a28-4bba-8a0b-e05f15bdf2ab",
   "metadata": {},
   "source": [
    "## Imports"
   ]
  },
  {
   "cell_type": "code",
   "execution_count": 1,
   "id": "723d32bb-cb9d-43f6-8711-b09c66d74ad1",
   "metadata": {},
   "outputs": [],
   "source": [
    "import pandas as pd\n",
    "import numpy as np\n",
    "import sqlite3"
   ]
  },
  {
   "cell_type": "markdown",
   "id": "071b57ad-77b4-4b7c-a7c0-f7600fa8991d",
   "metadata": {},
   "source": [
    "## Functions"
   ]
  },
  {
   "cell_type": "code",
   "execution_count": 2,
   "id": "71410469-bfcb-49b3-b0d4-6b7fc09d5299",
   "metadata": {},
   "outputs": [],
   "source": [
    "def get_module_att_data(module_code):\n",
    "    \"\"\"\n",
    "    Gets the sessions and attendance data for a \n",
    "    given module from the SQL database.\n",
    "    \n",
    "    input: module code\n",
    "    output: returns a data dictionary of sessions and attendance data \n",
    "            & module code\n",
    "    \n",
    "    db_name = name of database\n",
    "    data = data dictionary of sessions and attendance data\n",
    "    module = module_code = module code\n",
    "    conn = connection to SQL database\n",
    "    table_list = list of tables in the SQL database\n",
    "    \"\"\"\n",
    "    \n",
    "    # assign local variables and collections\n",
    "    db_name = 'CWDatabase'\n",
    "    data = {}\n",
    "    module = module_code.strip().upper()\n",
    "    \n",
    "\n",
    "    ## read data from SQL database\n",
    "    \n",
    "    conn = sqlite3.connect(db_name + '.db')\n",
    "\n",
    "    # get list of tables\n",
    "    sqlstm = 'SELECT name FROM sqlite_master WHERE type = \"table\"'\n",
    "    table_list = pd.read_sql(sqlstm, conn)\n",
    "    table_list = list(table_list['name'])\n",
    "\n",
    "    # loop through the list of tables and read in relevant data tables\n",
    "    for table in table_list:\n",
    "        if table[:6] == module:\n",
    "            data[table] = pd.read_sql('SELECT * FROM %s' %(table), conn)\n",
    "            data[table] = data[table].drop(columns = 'index')\n",
    "        else:\n",
    "            continue\n",
    "\n",
    "    conn.close()\n",
    "    \n",
    "    return (data, module)\n",
    "\n",
    "\n",
    "\n",
    "def module_att_table(data, module, week_no):\n",
    "    \"\"\"\n",
    "    Displays a table of the attendance of a module for a particular week.\n",
    "\n",
    "    input: data dictionary of sessions and attendance data\n",
    "           & module code\n",
    "           & week number\n",
    "    output: returns the formatted table\n",
    "    \n",
    "    data = data dictionary of sessions and attendance data\n",
    "    module = module_code = module code\n",
    "    week_number = week_no = week number\n",
    "    module_att = dataframe of module attendance\n",
    "    module_att_values = dictionary of attendance % values for each week\n",
    "    perc_values = list of attendance % values for given week\n",
    "    att_format = specified format for attendance % column in table\n",
    "    table_title = title string for the table caption\n",
    "    color_code() = function used for conditional formatting\n",
    "    \"\"\"\n",
    "    \n",
    "    # assign local variables and collections\n",
    "    week_number = int(week_no)\n",
    "    module_att = pd.DataFrame()\n",
    "    perc_values = []\n",
    "    att_format = {'Attendance %':'{:.1f}'}\n",
    "    table_title = 'Attendance Record for %s Week %s:' %(module, week_number)\n",
    "\n",
    "    # create smaller dataframe from sessions data\n",
    "    for name, df in data.items():\n",
    "        if name[7:10] == 'ses':\n",
    "            data[name] = data[name][['week', 'start_time', 'room', 'type']]\n",
    "            module_att = pd.DataFrame(data[name])\n",
    "        else:\n",
    "            continue\n",
    "        \n",
    "    # get dictionary of attendance % values for each week\n",
    "    for name, df in data.items():\n",
    "        if name[7:10] == 'att':\n",
    "            module_att_values = dict(df.mean(axis = 0) * 100)\n",
    "           \n",
    "            # get list of attendance % values for given week\n",
    "            for k, v in module_att_values.items():\n",
    "                if k[4:5] == str(week_number):\n",
    "                    perc_values.append(v)\n",
    "                else:\n",
    "                    continue\n",
    "        else:\n",
    "            continue\n",
    "\n",
    "\n",
    "    # create smaller dataframe of just given week and add attendance % values\n",
    "    module_att.set_index('week', inplace = True)\n",
    "    module_att = module_att.loc[['W' + str(week_number)]]\n",
    "    module_att['Attendance %'] = perc_values\n",
    "\n",
    "\n",
    "    def color_code(value):\n",
    "        '''\n",
    "        Conditionally formats the 'value' passed into the function.\n",
    "\n",
    "        input: value or subset of values to be formatted\n",
    "        output: formatted background colour\n",
    "        \n",
    "        value = value or subset of values\n",
    "        lower_limit = specified lower limit\n",
    "        upper_limit = specified upper limit\n",
    "        colour = background colour\n",
    "        '''\n",
    "        lower_limit = 50\n",
    "        upper_limit = 70\n",
    "\n",
    "        if value < lower_limit:\n",
    "            colour = 'tomato'\n",
    "        elif value > upper_limit:\n",
    "            colour = 'lightgreen'\n",
    "        else:\n",
    "            colour = 'yellow'\n",
    "            \n",
    "        return 'background-color: %s' % colour\n",
    "\n",
    "\n",
    "    # clean up dataframe for formatting  \n",
    "    module_att.reset_index(inplace = True)\n",
    "    module_att.drop(axis = 1, columns = 'week', inplace = True)\n",
    "    module_att = module_att.rename(columns = {'start_time':'Time', \n",
    "                                              'room':'Room',\n",
    "                                              'type': 'Type'})\n",
    "\n",
    "    # format the dataframe \n",
    "    module_att = module_att.style\\\n",
    "                           .format(att_format)\\\n",
    "                           .applymap(color_code, subset = 'Attendance %')\\\n",
    "                           .set_caption(table_title)\\\n",
    "                           .set_table_styles([{'selector': 'caption',\n",
    "                                               'props': [('font-size', \n",
    "                                                          '18px')]}])\\\n",
    "                           .hide_index()\n",
    "\n",
    "    display(module_att)"
   ]
  },
  {
   "cell_type": "markdown",
   "id": "153ebf98-9f55-4e6b-8613-21ebae4ac52e",
   "metadata": {},
   "source": [
    "## Main Function"
   ]
  },
  {
   "cell_type": "code",
   "execution_count": 3,
   "id": "521c11f3-1fdb-4112-9644-4fe4b7d0ba8d",
   "metadata": {},
   "outputs": [],
   "source": [
    "def get_module_att_table(module_code, week_no):\n",
    "    \"\"\"\n",
    "    Combines the above functions into one main function:\n",
    "        - Reads the data from the SQL database\n",
    "          and creates the table\n",
    "    \n",
    "    input: module code\n",
    "           & week number\n",
    "    output: displays the formatted table\n",
    "    \n",
    "    module = module_code = module code\n",
    "    week_no = week number\n",
    "    data = data dictionary of sessions and attendance data\n",
    "    \"\"\"\n",
    "    \n",
    "    data, module = get_module_att_data(module_code)\n",
    "    \n",
    "    return module_att_table(data, module, week_no)"
   ]
  },
  {
   "cell_type": "markdown",
   "id": "3531bffe-a29f-4759-a4e0-06ed3cf04974",
   "metadata": {},
   "source": [
    "## Function Demo"
   ]
  },
  {
   "cell_type": "code",
   "execution_count": 4,
   "id": "70dfec12-3b3c-4f68-acd3-c8d6b824c7e1",
   "metadata": {},
   "outputs": [
    {
     "data": {
      "text/html": [
       "<style  type=\"text/css\" >\n",
       "    #T_d5725_ caption {\n",
       "          font-size: 18px;\n",
       "    }#T_d5725_row0_col3{\n",
       "            background-color:  lightgreen;\n",
       "        }#T_d5725_row1_col3{\n",
       "            background-color:  yellow;\n",
       "        }</style><table id=\"T_d5725_\" ><caption>Attendance Record for COA111 Week 1:</caption><thead>    <tr>        <th class=\"col_heading level0 col0\" >Time</th>        <th class=\"col_heading level0 col1\" >Room</th>        <th class=\"col_heading level0 col2\" >Type</th>        <th class=\"col_heading level0 col3\" >Attendance %</th>    </tr></thead><tbody>\n",
       "                <tr>\n",
       "                                <td id=\"T_d5725_row0_col0\" class=\"data row0 col0\" >09:00</td>\n",
       "                        <td id=\"T_d5725_row0_col1\" class=\"data row0 col1\" >U020</td>\n",
       "                        <td id=\"T_d5725_row0_col2\" class=\"data row0 col2\" >Lecture</td>\n",
       "                        <td id=\"T_d5725_row0_col3\" class=\"data row0 col3\" >73.3</td>\n",
       "            </tr>\n",
       "            <tr>\n",
       "                                <td id=\"T_d5725_row1_col0\" class=\"data row1 col0\" >10:00</td>\n",
       "                        <td id=\"T_d5725_row1_col1\" class=\"data row1 col1\" >SMB014</td>\n",
       "                        <td id=\"T_d5725_row1_col2\" class=\"data row1 col2\" >Lecture</td>\n",
       "                        <td id=\"T_d5725_row1_col3\" class=\"data row1 col3\" >65.6</td>\n",
       "            </tr>\n",
       "    </tbody></table>"
      ],
      "text/plain": [
       "<pandas.io.formats.style.Styler at 0x7fc36bf41280>"
      ]
     },
     "metadata": {},
     "output_type": "display_data"
    }
   ],
   "source": [
    "get_module_att_table('COA111', 1)"
   ]
  }
 ],
 "metadata": {
  "kernelspec": {
   "display_name": "Python 3 (ipykernel)",
   "language": "python",
   "name": "python3"
  },
  "language_info": {
   "codemirror_mode": {
    "name": "ipython",
    "version": 3
   },
   "file_extension": ".py",
   "mimetype": "text/x-python",
   "name": "python",
   "nbconvert_exporter": "python",
   "pygments_lexer": "ipython3",
   "version": "3.8.8"
  }
 },
 "nbformat": 4,
 "nbformat_minor": 5
}
